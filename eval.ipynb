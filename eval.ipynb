{
 "cells": [
  {
   "cell_type": "code",
   "execution_count": 1,
   "metadata": {},
   "outputs": [
    {
     "name": "stderr",
     "output_type": "stream",
     "text": [
      "/usr/local/lib/python3.8/dist-packages/torchvision/io/image.py:13: UserWarning: Failed to load image Python extension: libtorch_cuda_cu.so: cannot open shared object file: No such file or directory\n",
      "  warn(f\"Failed to load image Python extension: {e}\")\n",
      "/usr/local/lib/python3.8/dist-packages/tqdm/auto.py:22: TqdmWarning: IProgress not found. Please update jupyter and ipywidgets. See https://ipywidgets.readthedocs.io/en/stable/user_install.html\n",
      "  from .autonotebook import tqdm as notebook_tqdm\n"
     ]
    }
   ],
   "source": [
    "import os\n",
    "import numpy as np\n",
    "from tqdm import tqdm\n",
    "import yaml\n",
    "import onnxruntime as ort\n",
    "import numpy as np\n",
    "\n",
    "# PyTorch and torchvision imports\n",
    "import torch\n",
    "from torch.utils.data import DataLoader \n",
    "import torchvision.transforms as T\n",
    "\n",
    "# Custom models and datasets\n",
    "from dataset.video_dataset import AdImageSequenceDataset\n",
    "from models.features_extractors import EfficientNet_feature_B5\n",
    "\n",
    "# Custom utils\n",
    "from utils.utils import CosineLoss, GaussianSmoothing\n",
    "\n",
    "# Sklearn for evaluation\n",
    "from sklearn.metrics import roc_auc_score\n",
    "\n",
    "import yaml\n",
    "import torch\n",
    "\n",
    "# Clear CUDA cache and enable CuDNN for better performance\n",
    "torch.cuda.empty_cache()\n",
    "torch.backends.cudnn.enabled = True\n",
    "device = torch.device(\"cuda\" if torch.cuda.is_available() else \"cpu\")"
   ]
  },
  {
   "cell_type": "code",
   "execution_count": 2,
   "metadata": {},
   "outputs": [],
   "source": [
    "# Load configuration from YAML file\n",
    "with open('configs/config_inference.yaml', 'r') as file:\n",
    "    config = yaml.safe_load(file)\n"
   ]
  },
  {
   "cell_type": "code",
   "execution_count": 3,
   "metadata": {},
   "outputs": [],
   "source": [
    "# Define image preprocessing transformations for EfficientNet\n",
    "preprocessing_efficientnet = T.Compose([\n",
    "    T.Resize((config['general_config']['image_size'], \n",
    "              config['general_config']['image_size']), \n",
    "             interpolation=T.InterpolationMode.BICUBIC),\n",
    "    T.ToTensor(),\n",
    "    T.Normalize(mean=[0.4850, 0.4560, 0.4060],\n",
    "                std=[0.2290, 0.2240, 0.2250])\n",
    "])\n",
    "\n",
    "# Define image preprocessing transformations for labels\n",
    "preprocessing_labels = T.Compose([\n",
    "    T.Resize((config['general_config']['feature_size'], config['general_config']['feature_size'])),\n",
    "    T.ToTensor()\n",
    "])\n",
    "\n",
    "# Create validation dataset\n",
    "dataset_val = AdImageSequenceDataset(\n",
    "    os.path.join(config['general_config']['data_path']),\n",
    "    preprocessing_efficientnet,\n",
    "    preprocessing_labels\n",
    ")\n",
    "\n",
    "dataloader_val = DataLoader(\n",
    "    dataset_val,\n",
    "    batch_size=1,\n",
    "    shuffle=False,\n",
    "    num_workers=6\n",
    ")\n",
    "\n",
    "\n",
    "gs_filter = GaussianSmoothing()"
   ]
  },
  {
   "cell_type": "code",
   "execution_count": 4,
   "metadata": {},
   "outputs": [
    {
     "name": "stderr",
     "output_type": "stream",
     "text": [
      "<ipython-input-4-33794d1d1548>:1: FutureWarning: You are using `torch.load` with `weights_only=False` (the current default value), which uses the default pickle module implicitly. It is possible to construct malicious pickle data which will execute arbitrary code during unpickling (See https://github.com/pytorch/pytorch/blob/main/SECURITY.md#untrusted-models for more details). In a future release, the default value for `weights_only` will be flipped to `True`. This limits the functions that could be executed during unpickling. Arbitrary objects will no longer be allowed to be loaded via this mode unless they are explicitly allowlisted by the user via `torch.serialization.add_safe_globals`. We recommend you start setting `weights_only=True` for any use case where you don't have full control of the loaded file. Please open an issue on GitHub for any issues related to this experimental feature.\n",
      "  model_SN = torch.load(config['general_config']['weight_path_SimpleNet']).to(device)\n",
      "<ipython-input-4-33794d1d1548>:4: FutureWarning: You are using `torch.load` with `weights_only=False` (the current default value), which uses the default pickle module implicitly. It is possible to construct malicious pickle data which will execute arbitrary code during unpickling (See https://github.com/pytorch/pytorch/blob/main/SECURITY.md#untrusted-models for more details). In a future release, the default value for `weights_only` will be flipped to `True`. This limits the functions that could be executed during unpickling. Arbitrary objects will no longer be allowed to be loaded via this mode unless they are explicitly allowlisted by the user via `torch.serialization.add_safe_globals`. We recommend you start setting `weights_only=True` for any use case where you don't have full control of the loaded file. Please open an issue on GitHub for any issues related to this experimental feature.\n",
      "  model_GeneralAD = torch.load(config['general_config']['weight_path_generalAD']).to(device)\n",
      "<ipython-input-4-33794d1d1548>:8: FutureWarning: You are using `torch.load` with `weights_only=False` (the current default value), which uses the default pickle module implicitly. It is possible to construct malicious pickle data which will execute arbitrary code during unpickling (See https://github.com/pytorch/pytorch/blob/main/SECURITY.md#untrusted-models for more details). In a future release, the default value for `weights_only` will be flipped to `True`. This limits the functions that could be executed during unpickling. Arbitrary objects will no longer be allowed to be loaded via this mode unless they are explicitly allowlisted by the user via `torch.serialization.add_safe_globals`. We recommend you start setting `weights_only=True` for any use case where you don't have full control of the loaded file. Please open an issue on GitHub for any issues related to this experimental feature.\n",
      "  model_PatchCore = torch.load(config['general_config']['weight_path_PatchCore'])\n",
      "<ipython-input-4-33794d1d1548>:10: FutureWarning: You are using `torch.load` with `weights_only=False` (the current default value), which uses the default pickle module implicitly. It is possible to construct malicious pickle data which will execute arbitrary code during unpickling (See https://github.com/pytorch/pytorch/blob/main/SECURITY.md#untrusted-models for more details). In a future release, the default value for `weights_only` will be flipped to `True`. This limits the functions that could be executed during unpickling. Arbitrary objects will no longer be allowed to be loaded via this mode unless they are explicitly allowlisted by the user via `torch.serialization.add_safe_globals`. We recommend you start setting `weights_only=True` for any use case where you don't have full control of the loaded file. Please open an issue on GitHub for any issues related to this experimental feature.\n",
      "  model_VMTAD = torch.load(config['general_config']['weight_path_VMTAD']).to(device)\n",
      "/usr/local/lib/python3.8/dist-packages/onnxruntime/capi/onnxruntime_inference_collection.py:54: UserWarning: Specified provider 'CUDAExecutionProvider' is not in available provider names.Available providers: 'CPUExecutionProvider'\n",
      "  warnings.warn(\n",
      "Unexpected keys (bn2.bias, bn2.num_batches_tracked, bn2.running_mean, bn2.running_var, bn2.weight, classifier.bias, classifier.weight, conv_head.weight) found while loading pretrained weights. This may be expected if model is being adapted.\n"
     ]
    },
    {
     "name": "stdout",
     "output_type": "stream",
     "text": [
      "Models load\n"
     ]
    }
   ],
   "source": [
    "model_SN = torch.load(config['general_config']['weight_path_SimpleNet']).to(device)\n",
    "model_SN.eval()\n",
    "\n",
    "model_GeneralAD = torch.load(config['general_config']['weight_path_generalAD']).to(device)\n",
    "model_GeneralAD.eval()\n",
    "\n",
    "\n",
    "model_PatchCore = torch.load(config['general_config']['weight_path_PatchCore'])\n",
    "\n",
    "model_VMTAD = torch.load(config['general_config']['weight_path_VMTAD']).to(device)\n",
    "model_VMTAD.mode = 'stream'\n",
    "model_VMTAD.eval()\n",
    "\n",
    "onnx_model_path = config['general_config']['weight_path_VMTAD_onnx']\n",
    "VMTAD_session = ort.InferenceSession(onnx_model_path, providers=['CUDAExecutionProvider'])\n",
    "\n",
    "feature_extraction  = EfficientNet_feature_B5(config)\n",
    "feature_extraction.eval() \n",
    "\n",
    "print(\"Models load\")"
   ]
  },
  {
   "cell_type": "markdown",
   "metadata": {},
   "source": [
    "## Vanilla Version of VMTAD\n",
    "\n",
    "The vanilla version of VMTAD is used for AUROC results and inference time."
   ]
  },
  {
   "cell_type": "code",
   "execution_count": 5,
   "metadata": {},
   "outputs": [
    {
     "name": "stderr",
     "output_type": "stream",
     "text": [
      "('AD_5',): 100%|██████████| 2990/2990 [05:34<00:00,  9.05it/s]"
     ]
    },
    {
     "name": "stdout",
     "output_type": "stream",
     "text": [
      "AUROC Seg:  0.9976342667864593\n",
      "AUROC Det:  0.9598744282823254\n"
     ]
    }
   ],
   "source": [
    "# Evaluation setup \n",
    "eval_seg = np.zeros((len(dataset_val),config['general_config']['feature_size'],config['general_config']['feature_size']))\n",
    "labels_seg = np.zeros((len(dataset_val),config['general_config']['feature_size'],config['general_config']['feature_size']))\n",
    "eval_det = np.zeros(len(dataset_val))\n",
    "labels_det = np.zeros(len(dataset_val))\n",
    "\n",
    "# Loss setup\n",
    "loss_visu = CosineLoss()\n",
    "\n",
    "# tqdm setup\n",
    "t = tqdm(total = len(dataloader_val))\n",
    "\n",
    "# loop setup\n",
    "folder_indice = None\n",
    "\n",
    "# evaluation loop\n",
    "for k,(_, folder, images, labels) in enumerate(dataloader_val):\n",
    "\n",
    "    images_cuda = images.to('cuda')\n",
    "    labels_np = labels[0,1].numpy().astype(int)\n",
    "    with torch.no_grad():\n",
    "        i  = 1\n",
    "        if folder_indice != folder :\n",
    "            folder_indice = folder\n",
    "            i = 0\n",
    "            \n",
    "        outputs = model_VMTAD(feature_extraction(images_cuda),i)\n",
    "        pred_frames = outputs['reconstructed_frames']\n",
    "        original_frame = feature_extraction(images_cuda)\n",
    "        \n",
    "        anomaly_map = loss_visu(pred_frames,original_frame)\n",
    "        anomaly_map_smooth = gs_filter(anomaly_map)[0].detach().cpu().numpy()\n",
    "        \n",
    "        eval_seg[k] = anomaly_map_smooth\n",
    "        labels_seg[k] = labels_np\n",
    "                \n",
    "        eval_det[k] = np.max(anomaly_map_smooth)\n",
    "        labels_det[k] = np.max(labels_np)\n",
    "        \n",
    "        t.update()\n",
    "        t.set_description_str(str(folder))\n",
    "        \n",
    "# Print evaluation results        \n",
    "print(\"AUROC Seg: \",roc_auc_score(labels_seg.flatten(),eval_seg.flatten()))\n",
    "print(\"AUROC Det: \",roc_auc_score(labels_det,eval_det))"
   ]
  },
  {
   "cell_type": "markdown",
   "metadata": {},
   "source": [
    "## ONNX Version\n",
    "\n",
    "ONNX model conversion degrades the AUROC performance. This version is open-weight."
   ]
  },
  {
   "cell_type": "code",
   "execution_count": 6,
   "metadata": {},
   "outputs": [
    {
     "name": "stderr",
     "output_type": "stream",
     "text": [
      "('AD_5',): 100%|██████████| 2990/2990 [06:49<00:00,  7.31it/s]\n"
     ]
    },
    {
     "name": "stderr",
     "output_type": "stream",
     "text": []
    },
    {
     "name": "stdout",
     "output_type": "stream",
     "text": [
      "AUROC Seg:  0.9973894177983017\n",
      "AUROC Det:  0.9557240241127287\n"
     ]
    }
   ],
   "source": [
    "\n",
    "# Evaluation setup \n",
    "eval_seg = np.zeros((len(dataset_val),config['general_config']['feature_size'],config['general_config']['feature_size']))\n",
    "labels_seg = np.zeros((len(dataset_val),config['general_config']['feature_size'],config['general_config']['feature_size']))\n",
    "eval_det = np.zeros(len(dataset_val))\n",
    "labels_det = np.zeros(len(dataset_val))\n",
    "\n",
    "# Loss setup\n",
    "loss_visu = CosineLoss()\n",
    "\n",
    "# tqdm setup\n",
    "t = tqdm(total = len(dataloader_val))\n",
    "\n",
    "# loop setup\n",
    "folder_indice = None\n",
    "\n",
    "# evaluation loop\n",
    "for k,(_, folder, images, labels) in enumerate(dataloader_val):\n",
    "\n",
    "    images_cuda = images.to('cuda')\n",
    "    labels_np = labels[0,1].numpy().astype(int)\n",
    "    with torch.no_grad():\n",
    "        i  = 1\n",
    "        if folder_indice != folder :\n",
    "            folder_indice = folder\n",
    "            i = 0\n",
    "            \n",
    "        onnx_input_name = VMTAD_session.get_inputs()[0].name  \n",
    "        input_features=feature_extraction(images_cuda).detach().cpu().numpy().astype(np.float32)\n",
    "        outputs = VMTAD_session.run(['output', 'src'], {onnx_input_name: input_features})\n",
    "        output = outputs[0]\n",
    "        src = outputs[1]\n",
    "        visu_loss = loss_visu(torch.from_numpy(output).to('cuda'),torch.from_numpy(src).to('cuda'))\n",
    "        anomaly_map_smooth = gs_filter(visu_loss).detach().cpu().numpy()\n",
    "        \n",
    "        eval_seg[k] = anomaly_map_smooth\n",
    "        labels_seg[k] = labels_np\n",
    "                \n",
    "        eval_det[k] = np.max(anomaly_map_smooth)\n",
    "        labels_det[k] = np.max(labels_np)\n",
    "        \n",
    "        t.update()\n",
    "        t.set_description_str(str(folder))\n",
    "        \n",
    "# Print evaluation results        \n",
    "print(\"AUROC Seg: \",roc_auc_score(labels_seg.flatten(),eval_seg.flatten()))\n",
    "print(\"AUROC Det: \",roc_auc_score(labels_det,eval_det))"
   ]
  },
  {
   "cell_type": "markdown",
   "metadata": {},
   "source": [
    "# SimpleNet"
   ]
  },
  {
   "cell_type": "code",
   "execution_count": 5,
   "metadata": {},
   "outputs": [
    {
     "name": "stderr",
     "output_type": "stream",
     "text": [
      "('AD_5',): 100%|██████████| 2990/2990 [00:56<00:00, 53.49it/s]"
     ]
    },
    {
     "name": "stdout",
     "output_type": "stream",
     "text": [
      "AUROC Seg:  0.9910839844262312\n",
      "AUROC Det:  0.9445148340463093\n"
     ]
    },
    {
     "name": "stderr",
     "output_type": "stream",
     "text": [
      "('AD_5',): 100%|██████████| 2990/2990 [01:10<00:00, 53.49it/s]"
     ]
    }
   ],
   "source": [
    "# Evaluation setup \n",
    "eval_seg = np.zeros((len(dataset_val),config['general_config']['feature_size'],config['general_config']['feature_size']))\n",
    "labels_seg = np.zeros((len(dataset_val),config['general_config']['feature_size'],config['general_config']['feature_size']))\n",
    "eval_det = np.zeros(len(dataset_val))\n",
    "labels_det = np.zeros(len(dataset_val))\n",
    "\n",
    "# tqdm setup\n",
    "t = tqdm(total = len(dataloader_val))\n",
    "\n",
    "# evaluation loop\n",
    "for k,(_, folder, images, labels) in enumerate(dataloader_val):\n",
    "\n",
    "    images_cuda = images.to('cuda')\n",
    "    labels_np = labels[0,1].numpy().astype(int)\n",
    "    with torch.no_grad():\n",
    "            \n",
    "        outputs = model_SN(feature_extraction(images_cuda), mode='inference')\n",
    "        anomaly_map_smooth = gs_filter(outputs)[0].detach().cpu().numpy()\n",
    "        \n",
    "        eval_seg[k] = anomaly_map_smooth\n",
    "        labels_seg[k] = labels_np\n",
    "                \n",
    "        eval_det[k] = np.max(anomaly_map_smooth)\n",
    "        labels_det[k] = np.max(labels_np)\n",
    "        \n",
    "        t.update()\n",
    "        t.set_description_str(str(folder))\n",
    "        \n",
    "# Print evaluation results        \n",
    "print(\"AUROC Seg: \",roc_auc_score(labels_seg.flatten(),eval_seg.flatten()))\n",
    "print(\"AUROC Det: \",roc_auc_score(labels_det,eval_det))"
   ]
  },
  {
   "cell_type": "markdown",
   "metadata": {},
   "source": [
    "# GeneralAD"
   ]
  },
  {
   "cell_type": "code",
   "execution_count": 6,
   "metadata": {},
   "outputs": [
    {
     "name": "stderr",
     "output_type": "stream",
     "text": [
      "('AD_5',): 100%|██████████| 2990/2990 [01:51<00:00, 26.77it/s]\n"
     ]
    },
    {
     "name": "stdout",
     "output_type": "stream",
     "text": [
      "AUROC Seg:  0.997777891531634\n",
      "AUROC Det:  0.9533309442519351\n"
     ]
    }
   ],
   "source": [
    "# Evaluation setup \n",
    "eval_seg = np.zeros((len(dataset_val),config['general_config']['feature_size'],config['general_config']['feature_size']))\n",
    "labels_seg = np.zeros((len(dataset_val),config['general_config']['feature_size'],config['general_config']['feature_size']))\n",
    "eval_det = np.zeros(len(dataset_val))\n",
    "labels_det = np.zeros(len(dataset_val))\n",
    "\n",
    "# tqdm setup\n",
    "t = tqdm(total = len(dataloader_val))\n",
    "\n",
    "# evaluation loop\n",
    "for k,(_, folder, images, labels) in enumerate(dataloader_val):\n",
    "\n",
    "    images_cuda = images.to('cuda')\n",
    "    labels_np = labels[0,1].numpy().astype(int)\n",
    "    with torch.no_grad():\n",
    "            \n",
    "        outputs = model_GeneralAD(feature_extraction(images_cuda), generate_anomaly=False)\n",
    "        anomaly_map_smooth = gs_filter(outputs).detach().cpu().numpy()\n",
    "        \n",
    "        eval_seg[k] = anomaly_map_smooth\n",
    "        labels_seg[k] = labels_np\n",
    "                \n",
    "        eval_det[k] = np.max(anomaly_map_smooth)\n",
    "        labels_det[k] = np.max(labels_np)\n",
    "        \n",
    "        t.update()\n",
    "        t.set_description_str(str(folder))\n",
    "        \n",
    "# Print evaluation results        \n",
    "print(\"AUROC Seg: \",roc_auc_score(labels_seg.flatten(),eval_seg.flatten()))\n",
    "print(\"AUROC Det: \",roc_auc_score(labels_det,eval_det))"
   ]
  },
  {
   "cell_type": "markdown",
   "metadata": {},
   "source": [
    "# PatchCore"
   ]
  },
  {
   "cell_type": "code",
   "execution_count": 7,
   "metadata": {},
   "outputs": [
    {
     "name": "stderr",
     "output_type": "stream",
     "text": [
      "('AD_5',): 100%|██████████| 2990/2990 [10:00<00:00,  4.98it/s]"
     ]
    },
    {
     "name": "stderr",
     "output_type": "stream",
     "text": [
      "\n",
      "('AD_5',): 100%|██████████| 2990/2990 [05:33<00:00,  9.23it/s]"
     ]
    },
    {
     "name": "stdout",
     "output_type": "stream",
     "text": [
      "AUROC Seg:  0.9747343690569894\n",
      "AUROC Det:  0.9494130653266333\n"
     ]
    }
   ],
   "source": [
    "# Define image preprocessing transformations for labels\n",
    "preprocessing_labels = T.Compose([\n",
    "    T.Resize((config['general_config']['feature_size']-2, config['general_config']['feature_size']-2)),\n",
    "    T.ToTensor()\n",
    "])\n",
    "\n",
    "# Create validation dataset\n",
    "dataset_val = AdImageSequenceDataset(\n",
    "    os.path.join(config['general_config']['data_path']),\n",
    "    preprocessing_efficientnet,\n",
    "    preprocessing_labels\n",
    ")\n",
    "\n",
    "\n",
    "dataloader_val = DataLoader(\n",
    "    dataset_val,\n",
    "    batch_size=1,\n",
    "    shuffle=False\n",
    ")\n",
    "\n",
    "\n",
    "# Evaluation setup \n",
    "eval_seg = np.zeros((len(dataset_val),config['general_config']['feature_size']-2,config['general_config']['feature_size']-2))\n",
    "labels_seg = np.zeros((len(dataset_val),config['general_config']['feature_size']-2,config['general_config']['feature_size']-2))\n",
    "eval_det = np.zeros(len(dataset_val))\n",
    "labels_det = np.zeros(len(dataset_val))\n",
    "\n",
    "t = tqdm(total = len(dataloader_val))\n",
    "\n",
    "# evaluation loop\n",
    "for k,(_, folder, images, labels) in enumerate(dataloader_val):\n",
    "\n",
    "    images_cuda = images.to('cuda')\n",
    "    labels_np = labels[0,1].numpy().astype(int)\n",
    "    with torch.no_grad():\n",
    "            \n",
    "        outputs = model_PatchCore.compute_anomaly_map(feature_extraction(images_cuda))\n",
    "        anomaly_map_smooth = gs_filter(outputs[1].unsqueeze(0)).detach().cpu().numpy()\n",
    "        eval_seg[k] = anomaly_map_smooth\n",
    "        labels_seg[k] = labels_np\n",
    "                \n",
    "        eval_det[k] = np.max(anomaly_map_smooth)\n",
    "        labels_det[k] = np.max(labels_np)\n",
    "        \n",
    "        t.update()\n",
    "        t.set_description_str(str(folder))\n",
    "        \n",
    "# Print evaluation results        \n",
    "print(\"AUROC Seg: \",roc_auc_score(labels_seg.flatten(),eval_seg.flatten()))\n",
    "print(\"AUROC Det: \",roc_auc_score(labels_det,eval_det))"
   ]
  }
 ],
 "metadata": {
  "kernelspec": {
   "display_name": "Python 3",
   "language": "python",
   "name": "python3"
  },
  "language_info": {
   "codemirror_mode": {
    "name": "ipython",
    "version": 3
   },
   "file_extension": ".py",
   "mimetype": "text/x-python",
   "name": "python",
   "nbconvert_exporter": "python",
   "pygments_lexer": "ipython3",
   "version": "3.8.10"
  }
 },
 "nbformat": 4,
 "nbformat_minor": 2
}
